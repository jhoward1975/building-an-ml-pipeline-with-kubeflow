{
 "cells": [
  {
   "cell_type": "code",
   "execution_count": 1,
   "id": "b005ee78-fb41-4675-a9bc-0d949ed99229",
   "metadata": {},
   "outputs": [],
   "source": [
    "import tensorflow as tf"
   ]
  },
  {
   "cell_type": "code",
   "execution_count": 2,
   "id": "52c796f7-96ac-44c7-9d58-45ecb34e0a06",
   "metadata": {},
   "outputs": [],
   "source": [
    "mnist = tf.keras.datasets.mnist"
   ]
  },
  {
   "cell_type": "code",
   "execution_count": 3,
   "id": "1ae5b273-b76d-4015-aecf-56fa86e4e36c",
   "metadata": {},
   "outputs": [
    {
     "name": "stdout",
     "output_type": "stream",
     "text": [
      "Downloading data from https://storage.googleapis.com/tensorflow/tf-keras-datasets/mnist.npz\n",
      "11493376/11490434 [==============================] - 1s 0us/step\n"
     ]
    }
   ],
   "source": [
    "(x_train, y_train), (x_test, y_test) = mnist.load_data()"
   ]
  },
  {
   "cell_type": "code",
   "execution_count": 4,
   "id": "7de1864c-a37d-44d7-a70c-55623fcdbf27",
   "metadata": {},
   "outputs": [],
   "source": [
    "x_train, x_test = x_train / 255.0, x_test / 255.0"
   ]
  },
  {
   "cell_type": "code",
   "execution_count": 5,
   "id": "02c3162e-ca42-43c0-a524-0f5282b5e24f",
   "metadata": {},
   "outputs": [],
   "source": [
    "model = tf.keras.models.Sequential([\n",
    "    tf.keras.layers.Flatten(input_shape=(28,28)),\n",
    "    tf.keras.layers.Dense(128, activation='relu'),\n",
    "    tf.keras.layers.Dropout(0.2),\n",
    "    tf.keras.layers.Dense(10)\n",
    "])"
   ]
  },
  {
   "cell_type": "code",
   "execution_count": 6,
   "id": "fbc4b240-c9e2-42a7-a6e7-052a98b76c7f",
   "metadata": {},
   "outputs": [
    {
     "data": {
      "text/plain": [
       "array([[-0.39109355, -0.37945145, -0.09789154, -0.39371583,  0.49668083,\n",
       "         0.18255416,  0.69561976,  0.06842838, -0.11772512,  0.10613167]],\n",
       "      dtype=float32)"
      ]
     },
     "execution_count": 6,
     "metadata": {},
     "output_type": "execute_result"
    }
   ],
   "source": [
    "predictions = model(x_train[:1]).numpy()\n",
    "predictions"
   ]
  },
  {
   "cell_type": "code",
   "execution_count": 7,
   "id": "04d7ea4e-1fa9-4a4d-a414-3506cd2bddb2",
   "metadata": {},
   "outputs": [],
   "source": [
    "loss_fn = tf.keras.losses.SparseCategoricalCrossentropy(from_logits=True)"
   ]
  },
  {
   "cell_type": "code",
   "execution_count": 8,
   "id": "139722a1-2c72-4d41-ae24-823fcc350ce1",
   "metadata": {},
   "outputs": [
    {
     "data": {
      "text/plain": [
       "2.2027225"
      ]
     },
     "execution_count": 8,
     "metadata": {},
     "output_type": "execute_result"
    }
   ],
   "source": [
    "loss_fn(y_train[:1], predictions).numpy()"
   ]
  },
  {
   "cell_type": "code",
   "execution_count": 9,
   "id": "8c92ca2c-4697-4f9e-aaeb-77c78999dccd",
   "metadata": {},
   "outputs": [],
   "source": [
    "model.compile(optimizer='adam',\n",
    "              loss=loss_fn,\n",
    "              metrics=['accuracy'])"
   ]
  },
  {
   "cell_type": "code",
   "execution_count": 10,
   "id": "648fac93-4417-44a0-85bf-f07563fd83eb",
   "metadata": {},
   "outputs": [
    {
     "name": "stdout",
     "output_type": "stream",
     "text": [
      "Epoch 1/5\n",
      "1875/1875 [==============================] - 13s 7ms/step - loss: 0.2984 - accuracy: 0.9121\n",
      "Epoch 2/5\n",
      "1875/1875 [==============================] - 12s 6ms/step - loss: 0.1456 - accuracy: 0.9578\n",
      "Epoch 3/5\n",
      "1875/1875 [==============================] - 11s 6ms/step - loss: 0.1092 - accuracy: 0.9671\n",
      "Epoch 4/5\n",
      "1875/1875 [==============================] - 12s 7ms/step - loss: 0.0893 - accuracy: 0.9724\n",
      "Epoch 5/5\n",
      "1875/1875 [==============================] - 13s 7ms/step - loss: 0.0781 - accuracy: 0.9758\n"
     ]
    },
    {
     "data": {
      "text/plain": [
       "<tensorflow.python.keras.callbacks.History at 0x7f8ae811c0a0>"
      ]
     },
     "execution_count": 10,
     "metadata": {},
     "output_type": "execute_result"
    }
   ],
   "source": [
    "model.fit(x_train, y_train, epochs=5)"
   ]
  },
  {
   "cell_type": "code",
   "execution_count": 11,
   "id": "11d630b4-7cb4-456b-a6ea-6e5334a770f0",
   "metadata": {},
   "outputs": [
    {
     "name": "stdout",
     "output_type": "stream",
     "text": [
      "313/313 - 1s - loss: 0.0778 - accuracy: 0.9765\n"
     ]
    },
    {
     "data": {
      "text/plain": [
       "[0.07782428711652756, 0.9764999747276306]"
      ]
     },
     "execution_count": 11,
     "metadata": {},
     "output_type": "execute_result"
    }
   ],
   "source": [
    "model.evaluate(x_test, y_test, verbose=2)"
   ]
  },
  {
   "cell_type": "code",
   "execution_count": 12,
   "id": "6ca724d4-c8f3-4c91-84a0-b80d6c8ca8df",
   "metadata": {},
   "outputs": [],
   "source": [
    "probablity_model = tf.keras.Sequential([\n",
    "    model,\n",
    "    tf.keras.layers.Softmax()\n",
    "])"
   ]
  },
  {
   "cell_type": "code",
   "execution_count": 14,
   "id": "9652126c-9133-4227-a1fa-c0f9f7bac2be",
   "metadata": {},
   "outputs": [
    {
     "data": {
      "text/plain": [
       "<tf.Tensor: shape=(5, 10), dtype=float32, numpy=\n",
       "array([[5.6853356e-08, 6.2333831e-09, 2.4225715e-06, 1.7779339e-04,\n",
       "        1.1755845e-09, 1.5762792e-07, 1.0419754e-12, 9.9981135e-01,\n",
       "        1.2611136e-07, 8.0971158e-06],\n",
       "       [1.8107142e-08, 2.7129106e-04, 9.9934810e-01, 3.5704215e-04,\n",
       "        1.4623094e-14, 2.1466900e-05, 9.3904316e-07, 5.2730327e-11,\n",
       "        1.1589577e-06, 1.7379280e-13],\n",
       "       [3.4529214e-07, 9.9582088e-01, 4.4387919e-04, 2.7784959e-05,\n",
       "        1.9291017e-04, 1.2017363e-05, 3.4044209e-05, 3.1207670e-03,\n",
       "        3.4526398e-04, 2.0926984e-06],\n",
       "       [9.9961072e-01, 5.3297509e-09, 3.9966108e-05, 1.0229199e-07,\n",
       "        2.0849482e-07, 2.0463590e-06, 3.3683027e-04, 7.0446413e-06,\n",
       "        2.3421281e-07, 2.9216928e-06],\n",
       "       [3.9297217e-07, 1.0160506e-10, 8.8198725e-08, 5.2339582e-09,\n",
       "        9.9897623e-01, 3.8401893e-08, 3.3300091e-06, 2.8686345e-05,\n",
       "        5.8255338e-08, 9.9119113e-04]], dtype=float32)>"
      ]
     },
     "execution_count": 14,
     "metadata": {},
     "output_type": "execute_result"
    }
   ],
   "source": [
    "probablity_model(x_test[:5])"
   ]
  },
  {
   "cell_type": "code",
   "execution_count": null,
   "id": "c5320ea9-69cc-4765-9ca1-3adbf8461161",
   "metadata": {},
   "outputs": [],
   "source": []
  }
 ],
 "metadata": {
  "kernelspec": {
   "display_name": "Python 3",
   "language": "python",
   "name": "python3"
  },
  "language_info": {
   "codemirror_mode": {
    "name": "ipython",
    "version": 3
   },
   "file_extension": ".py",
   "mimetype": "text/x-python",
   "name": "python",
   "nbconvert_exporter": "python",
   "pygments_lexer": "ipython3",
   "version": "3.8.10"
  }
 },
 "nbformat": 4,
 "nbformat_minor": 5
}
